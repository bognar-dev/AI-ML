{
  "nbformat": 4,
  "nbformat_minor": 0,
  "metadata": {
    "colab": {
      "provenance": [],
      "gpuType": "T4",
      "authorship_tag": "ABX9TyNDoy4wcbj/xbctCOiWonhi",
      "include_colab_link": true
    },
    "kernelspec": {
      "name": "python3",
      "display_name": "Python 3"
    },
    "language_info": {
      "name": "python"
    },
    "accelerator": "GPU"
  },
  "cells": [
    {
      "cell_type": "markdown",
      "metadata": {
        "id": "view-in-github",
        "colab_type": "text"
      },
      "source": [
        "<a href=\"https://colab.research.google.com/github/bognar-dev/AI-ML/blob/main/RandomTree.ipynb\" target=\"_parent\"><img src=\"https://colab.research.google.com/assets/colab-badge.svg\" alt=\"Open In Colab\"/></a>"
      ]
    },
    {
      "cell_type": "code",
      "source": [
        "!nvidia-smi"
      ],
      "metadata": {
        "colab": {
          "base_uri": "https://localhost:8080/"
        },
        "id": "CI3bPTbuSndG",
        "outputId": "86d4ef67-9922-4e69-8bb0-8352cfe08a54"
      },
      "execution_count": null,
      "outputs": [
        {
          "output_type": "stream",
          "name": "stdout",
          "text": [
            "Tue Feb  6 15:22:16 2024       \n",
            "+---------------------------------------------------------------------------------------+\n",
            "| NVIDIA-SMI 535.104.05             Driver Version: 535.104.05   CUDA Version: 12.2     |\n",
            "|-----------------------------------------+----------------------+----------------------+\n",
            "| GPU  Name                 Persistence-M | Bus-Id        Disp.A | Volatile Uncorr. ECC |\n",
            "| Fan  Temp   Perf          Pwr:Usage/Cap |         Memory-Usage | GPU-Util  Compute M. |\n",
            "|                                         |                      |               MIG M. |\n",
            "|=========================================+======================+======================|\n",
            "|   0  Tesla T4                       Off | 00000000:00:04.0 Off |                    0 |\n",
            "| N/A   41C    P8               9W /  70W |      0MiB / 15360MiB |      0%      Default |\n",
            "|                                         |                      |                  N/A |\n",
            "+-----------------------------------------+----------------------+----------------------+\n",
            "                                                                                         \n",
            "+---------------------------------------------------------------------------------------+\n",
            "| Processes:                                                                            |\n",
            "|  GPU   GI   CI        PID   Type   Process name                            GPU Memory |\n",
            "|        ID   ID                                                             Usage      |\n",
            "|=======================================================================================|\n",
            "|  No running processes found                                                           |\n",
            "+---------------------------------------------------------------------------------------+\n"
          ]
        }
      ]
    },
    {
      "cell_type": "code",
      "source": [
        "!pip install statsbombpy"
      ],
      "metadata": {
        "colab": {
          "base_uri": "https://localhost:8080/"
        },
        "id": "kvuIz864ZdJr",
        "outputId": "bf802d5c-e02c-4e47-a624-94737d59cc8d"
      },
      "execution_count": null,
      "outputs": [
        {
          "output_type": "stream",
          "name": "stdout",
          "text": [
            "Collecting statsbombpy\n",
            "  Downloading statsbombpy-1.12.0-py3-none-any.whl (16 kB)\n",
            "Requirement already satisfied: pandas in /usr/local/lib/python3.10/dist-packages (from statsbombpy) (1.5.3)\n",
            "Requirement already satisfied: requests in /usr/local/lib/python3.10/dist-packages (from statsbombpy) (2.31.0)\n",
            "Collecting requests-cache (from statsbombpy)\n",
            "  Downloading requests_cache-1.1.1-py3-none-any.whl (60 kB)\n",
            "\u001b[2K     \u001b[90m━━━━━━━━━━━━━━━━━━━━━━━━━━━━━━━━━━━━━━━━\u001b[0m \u001b[32m60.3/60.3 kB\u001b[0m \u001b[31m1.8 MB/s\u001b[0m eta \u001b[36m0:00:00\u001b[0m\n",
            "\u001b[?25hRequirement already satisfied: inflect in /usr/local/lib/python3.10/dist-packages (from statsbombpy) (7.0.0)\n",
            "Requirement already satisfied: joblib in /usr/local/lib/python3.10/dist-packages (from statsbombpy) (1.3.2)\n",
            "Requirement already satisfied: pydantic>=1.9.1 in /usr/local/lib/python3.10/dist-packages (from inflect->statsbombpy) (1.10.14)\n",
            "Requirement already satisfied: typing-extensions in /usr/local/lib/python3.10/dist-packages (from inflect->statsbombpy) (4.5.0)\n",
            "Requirement already satisfied: python-dateutil>=2.8.1 in /usr/local/lib/python3.10/dist-packages (from pandas->statsbombpy) (2.8.2)\n",
            "Requirement already satisfied: pytz>=2020.1 in /usr/local/lib/python3.10/dist-packages (from pandas->statsbombpy) (2023.4)\n",
            "Requirement already satisfied: numpy>=1.21.0 in /usr/local/lib/python3.10/dist-packages (from pandas->statsbombpy) (1.23.5)\n",
            "Requirement already satisfied: charset-normalizer<4,>=2 in /usr/local/lib/python3.10/dist-packages (from requests->statsbombpy) (3.3.2)\n",
            "Requirement already satisfied: idna<4,>=2.5 in /usr/local/lib/python3.10/dist-packages (from requests->statsbombpy) (3.6)\n",
            "Requirement already satisfied: urllib3<3,>=1.21.1 in /usr/local/lib/python3.10/dist-packages (from requests->statsbombpy) (2.0.7)\n",
            "Requirement already satisfied: certifi>=2017.4.17 in /usr/local/lib/python3.10/dist-packages (from requests->statsbombpy) (2023.11.17)\n",
            "Requirement already satisfied: attrs>=21.2 in /usr/local/lib/python3.10/dist-packages (from requests-cache->statsbombpy) (23.2.0)\n",
            "Collecting cattrs>=22.2 (from requests-cache->statsbombpy)\n",
            "  Downloading cattrs-23.2.3-py3-none-any.whl (57 kB)\n",
            "\u001b[2K     \u001b[90m━━━━━━━━━━━━━━━━━━━━━━━━━━━━━━━━━━━━━━━━\u001b[0m \u001b[32m57.5/57.5 kB\u001b[0m \u001b[31m4.5 MB/s\u001b[0m eta \u001b[36m0:00:00\u001b[0m\n",
            "\u001b[?25hRequirement already satisfied: platformdirs>=2.5 in /usr/local/lib/python3.10/dist-packages (from requests-cache->statsbombpy) (4.2.0)\n",
            "Collecting url-normalize>=1.4 (from requests-cache->statsbombpy)\n",
            "  Downloading url_normalize-1.4.3-py2.py3-none-any.whl (6.8 kB)\n",
            "Requirement already satisfied: exceptiongroup>=1.1.1 in /usr/local/lib/python3.10/dist-packages (from cattrs>=22.2->requests-cache->statsbombpy) (1.2.0)\n",
            "Requirement already satisfied: six>=1.5 in /usr/local/lib/python3.10/dist-packages (from python-dateutil>=2.8.1->pandas->statsbombpy) (1.16.0)\n",
            "Installing collected packages: url-normalize, cattrs, requests-cache, statsbombpy\n",
            "Successfully installed cattrs-23.2.3 requests-cache-1.1.1 statsbombpy-1.12.0 url-normalize-1.4.3\n"
          ]
        }
      ]
    },
    {
      "cell_type": "code",
      "source": [
        "# Import necessary libraries\n",
        "import pandas as pd\n",
        "from sklearn.model_selection import train_test_split\n",
        "from sklearn.ensemble import RandomForestClassifier\n",
        "from sklearn.metrics import mean_squared_error\n",
        "from sklearn.metrics import confusion_matrix\n",
        "from sklearn.metrics import classification_report, accuracy_score\n",
        "import matplotlib.pyplot as plt\n",
        "import joblib\n",
        "from statsbombpy import sb"
      ],
      "metadata": {
        "id": "YFH9Q35xQ0Dy"
      },
      "execution_count": null,
      "outputs": []
    },
    {
      "cell_type": "code",
      "source": [
        "comp = sb.competitions()\n",
        "comp['competition_name']\n",
        "counts = df['column_name'].value_counts()\n",
        "\n",
        "print(counts)"
      ],
      "metadata": {
        "colab": {
          "base_uri": "https://localhost:8080/"
        },
        "id": "QWBv5UulZoDS",
        "outputId": "504b3853-2da1-4b9d-a982-7847ca2d9c88"
      },
      "execution_count": null,
      "outputs": [
        {
          "output_type": "stream",
          "name": "stderr",
          "text": [
            "/usr/local/lib/python3.10/dist-packages/statsbombpy/api_client.py:21: NoAuthWarning: credentials were not supplied. open data access only\n",
            "  warnings.warn(\n"
          ]
        },
        {
          "output_type": "execute_result",
          "data": {
            "text/plain": [
              "0          1. Bundesliga\n",
              "1       Champions League\n",
              "2       Champions League\n",
              "3       Champions League\n",
              "4       Champions League\n",
              "             ...        \n",
              "65             UEFA Euro\n",
              "66    UEFA Europa League\n",
              "67     UEFA Women's Euro\n",
              "68     Women's World Cup\n",
              "69     Women's World Cup\n",
              "Name: competition_name, Length: 70, dtype: object"
            ]
          },
          "metadata": {},
          "execution_count": 71
        }
      ]
    },
    {
      "cell_type": "code",
      "source": [
        "def convert_outcome(row):\n",
        "    if row['WIN_HOME'] == 1:\n",
        "        return 'win_home'\n",
        "    elif row['WIN_AWAY'] == 1:\n",
        "        return 'win_away'\n",
        "    else:\n",
        "        return 'draw'"
      ],
      "metadata": {
        "id": "IYQ_EOCXDNcR"
      },
      "execution_count": null,
      "outputs": []
    },
    {
      "cell_type": "code",
      "source": [
        "# Load and preprocess data (replace this with your dataset)\n",
        "# ...\n",
        "# Load your dataset (replace 'your_dataset.csv' with your actual dataset)\n",
        "df = pd.read_csv('bulidata.csv')\n",
        "df['outcome'] = df.apply(convert_outcome, axis=1)\n",
        "df.drop(['WIN_HOME', 'WIN_AWAY','DRAW'], axis=1, inplace=True)\n",
        "df['outcome']"
      ],
      "metadata": {
        "id": "5W-xvriyQ3Rc",
        "colab": {
          "base_uri": "https://localhost:8080/"
        },
        "outputId": "bfdae826-9485-43ce-d3fe-8e8d04041e2d"
      },
      "execution_count": null,
      "outputs": [
        {
          "output_type": "execute_result",
          "data": {
            "text/plain": [
              "0       win_home\n",
              "1       win_home\n",
              "2           draw\n",
              "3       win_home\n",
              "4           draw\n",
              "          ...   \n",
              "5503    win_away\n",
              "5504    win_home\n",
              "5505        draw\n",
              "5506    win_home\n",
              "5507    win_away\n",
              "Name: outcome, Length: 5508, dtype: object"
            ]
          },
          "metadata": {},
          "execution_count": 8
        }
      ]
    },
    {
      "cell_type": "code",
      "source": [
        "# Extract unique locations from the 'LOCATION' column\n",
        "locations = pd.unique(df['LOCATION'])\n",
        "\n",
        "# Create a dictionary to map locations to Location_IDs\n",
        "location_id_map = {location: i for i, location in enumerate(locations)}\n",
        "\n",
        "# Map each location to its corresponding Location_ID\n",
        "df['LOCATION_ID'] = df['LOCATION'].map(location_id_map)\n",
        "\n",
        "\n",
        "print(df.columns)\n"
      ],
      "metadata": {
        "colab": {
          "base_uri": "https://localhost:8080/"
        },
        "id": "iqgcR__NGciq",
        "outputId": "975a131e-f88b-4498-f95a-66d81563793e"
      },
      "execution_count": null,
      "outputs": [
        {
          "output_type": "stream",
          "name": "stdout",
          "text": [
            "Index(['Unnamed: 0', 'MATCH_DATE', 'LEAGUE_NAME', 'SEASON', 'LEAGUE',\n",
            "       'FINISHED', 'LOCATION', 'VIEWER', 'MATCHDAY', 'MATCHDAY_NR',\n",
            "       'HOME_TEAM_ID', 'HOME_TEAM_NAME', 'HOME_TEAM', 'HOME_ICON',\n",
            "       'AWAY_TEAM_ID', 'AWAY_TEAM_NAME', 'AWAY_TEAM', 'AWAY_ICON',\n",
            "       'GOALS_HOME', 'GOALS_AWAY', 'outcome', 'Location_ID', 'LOCATION_ID'],\n",
            "      dtype='object')\n"
          ]
        }
      ]
    },
    {
      "cell_type": "code",
      "source": [
        "print(location_id_map)"
      ],
      "metadata": {
        "colab": {
          "base_uri": "https://localhost:8080/"
        },
        "id": "Rw3jKHxCLuzJ",
        "outputId": "c2c869a9-89d5-4d1b-bba5-4a2a2c203761"
      },
      "execution_count": null,
      "outputs": [
        {
          "output_type": "stream",
          "name": "stdout",
          "text": [
            "{'München': 0, 'Köln': 1, 'Duisburg': 2, 'Hamburg': 3, 'Wolfsburg': 4, 'Bremen': 5, 'Hannover': 6, 'Gelsenkirchen': 7, 'Frankfurt': 8, 'Leverkusen': 9, 'Gladbach': 10, 'Dortmund': 11, 'Berlin': 12, 'Kaiserslautern': 13, 'Nürnberg': 14, 'Bielefeld': 15, 'Stuttgart': 16, 'Mainz': 17, 'Cottbus': 18, 'Aachen': 19, 'Bochum': 20, 'Karlsruhe': 21, 'Rostock': 22, 'Sinsheim': 23, 'Freiburg': 24, 'Augsburg': 25, 'Fürth': 26, 'Düsseldorf': 27, 'Braunschweig': 28, 'Paderborn': 29, 'Darmstadt': 30, 'Ingolstadt': 31, 'Leipzig': 32}\n"
          ]
        }
      ]
    },
    {
      "cell_type": "code",
      "source": [],
      "metadata": {
        "id": "HhMphwqxMNg9"
      },
      "execution_count": null,
      "outputs": []
    },
    {
      "cell_type": "code",
      "source": [
        "# Features (X) and Target Variable (y)\n",
        "X = df[['LOCATION_ID', 'MATCHDAY_NR', 'HOME_TEAM_ID', 'AWAY_TEAM_ID','GOALS_HOME','GOALS_AWAY']]\n",
        "y = df['outcome']  # 'win', 'draw', 'loss'"
      ],
      "metadata": {
        "id": "E-bvht2EQ_t7"
      },
      "execution_count": null,
      "outputs": []
    },
    {
      "cell_type": "code",
      "source": [
        "# Split the data into training and testing sets\n",
        "X_train, X_test, y_train, y_test = train_test_split(X, y, test_size=0.2, random_state=42)"
      ],
      "metadata": {
        "id": "GN1eZbkCRXiM"
      },
      "execution_count": null,
      "outputs": []
    },
    {
      "cell_type": "code",
      "source": [
        "\n",
        "# Initialize and train the model\n",
        "model = RandomForestClassifier()\n",
        "model.fit(X_train, y_train)"
      ],
      "metadata": {
        "id": "B-JJZUHBRZ1X",
        "colab": {
          "base_uri": "https://localhost:8080/",
          "height": 75
        },
        "outputId": "da108fe2-e4b8-4500-a593-f7b52c55836d"
      },
      "execution_count": null,
      "outputs": [
        {
          "output_type": "execute_result",
          "data": {
            "text/plain": [
              "RandomForestClassifier()"
            ],
            "text/html": [
              "<style>#sk-container-id-1 {color: black;background-color: white;}#sk-container-id-1 pre{padding: 0;}#sk-container-id-1 div.sk-toggleable {background-color: white;}#sk-container-id-1 label.sk-toggleable__label {cursor: pointer;display: block;width: 100%;margin-bottom: 0;padding: 0.3em;box-sizing: border-box;text-align: center;}#sk-container-id-1 label.sk-toggleable__label-arrow:before {content: \"▸\";float: left;margin-right: 0.25em;color: #696969;}#sk-container-id-1 label.sk-toggleable__label-arrow:hover:before {color: black;}#sk-container-id-1 div.sk-estimator:hover label.sk-toggleable__label-arrow:before {color: black;}#sk-container-id-1 div.sk-toggleable__content {max-height: 0;max-width: 0;overflow: hidden;text-align: left;background-color: #f0f8ff;}#sk-container-id-1 div.sk-toggleable__content pre {margin: 0.2em;color: black;border-radius: 0.25em;background-color: #f0f8ff;}#sk-container-id-1 input.sk-toggleable__control:checked~div.sk-toggleable__content {max-height: 200px;max-width: 100%;overflow: auto;}#sk-container-id-1 input.sk-toggleable__control:checked~label.sk-toggleable__label-arrow:before {content: \"▾\";}#sk-container-id-1 div.sk-estimator input.sk-toggleable__control:checked~label.sk-toggleable__label {background-color: #d4ebff;}#sk-container-id-1 div.sk-label input.sk-toggleable__control:checked~label.sk-toggleable__label {background-color: #d4ebff;}#sk-container-id-1 input.sk-hidden--visually {border: 0;clip: rect(1px 1px 1px 1px);clip: rect(1px, 1px, 1px, 1px);height: 1px;margin: -1px;overflow: hidden;padding: 0;position: absolute;width: 1px;}#sk-container-id-1 div.sk-estimator {font-family: monospace;background-color: #f0f8ff;border: 1px dotted black;border-radius: 0.25em;box-sizing: border-box;margin-bottom: 0.5em;}#sk-container-id-1 div.sk-estimator:hover {background-color: #d4ebff;}#sk-container-id-1 div.sk-parallel-item::after {content: \"\";width: 100%;border-bottom: 1px solid gray;flex-grow: 1;}#sk-container-id-1 div.sk-label:hover label.sk-toggleable__label {background-color: #d4ebff;}#sk-container-id-1 div.sk-serial::before {content: \"\";position: absolute;border-left: 1px solid gray;box-sizing: border-box;top: 0;bottom: 0;left: 50%;z-index: 0;}#sk-container-id-1 div.sk-serial {display: flex;flex-direction: column;align-items: center;background-color: white;padding-right: 0.2em;padding-left: 0.2em;position: relative;}#sk-container-id-1 div.sk-item {position: relative;z-index: 1;}#sk-container-id-1 div.sk-parallel {display: flex;align-items: stretch;justify-content: center;background-color: white;position: relative;}#sk-container-id-1 div.sk-item::before, #sk-container-id-1 div.sk-parallel-item::before {content: \"\";position: absolute;border-left: 1px solid gray;box-sizing: border-box;top: 0;bottom: 0;left: 50%;z-index: -1;}#sk-container-id-1 div.sk-parallel-item {display: flex;flex-direction: column;z-index: 1;position: relative;background-color: white;}#sk-container-id-1 div.sk-parallel-item:first-child::after {align-self: flex-end;width: 50%;}#sk-container-id-1 div.sk-parallel-item:last-child::after {align-self: flex-start;width: 50%;}#sk-container-id-1 div.sk-parallel-item:only-child::after {width: 0;}#sk-container-id-1 div.sk-dashed-wrapped {border: 1px dashed gray;margin: 0 0.4em 0.5em 0.4em;box-sizing: border-box;padding-bottom: 0.4em;background-color: white;}#sk-container-id-1 div.sk-label label {font-family: monospace;font-weight: bold;display: inline-block;line-height: 1.2em;}#sk-container-id-1 div.sk-label-container {text-align: center;}#sk-container-id-1 div.sk-container {/* jupyter's `normalize.less` sets `[hidden] { display: none; }` but bootstrap.min.css set `[hidden] { display: none !important; }` so we also need the `!important` here to be able to override the default hidden behavior on the sphinx rendered scikit-learn.org. See: https://github.com/scikit-learn/scikit-learn/issues/21755 */display: inline-block !important;position: relative;}#sk-container-id-1 div.sk-text-repr-fallback {display: none;}</style><div id=\"sk-container-id-1\" class=\"sk-top-container\"><div class=\"sk-text-repr-fallback\"><pre>RandomForestClassifier()</pre><b>In a Jupyter environment, please rerun this cell to show the HTML representation or trust the notebook. <br />On GitHub, the HTML representation is unable to render, please try loading this page with nbviewer.org.</b></div><div class=\"sk-container\" hidden><div class=\"sk-item\"><div class=\"sk-estimator sk-toggleable\"><input class=\"sk-toggleable__control sk-hidden--visually\" id=\"sk-estimator-id-1\" type=\"checkbox\" checked><label for=\"sk-estimator-id-1\" class=\"sk-toggleable__label sk-toggleable__label-arrow\">RandomForestClassifier</label><div class=\"sk-toggleable__content\"><pre>RandomForestClassifier()</pre></div></div></div></div></div>"
            ]
          },
          "metadata": {},
          "execution_count": 24
        }
      ]
    },
    {
      "cell_type": "code",
      "source": [
        "\n",
        "# Make predictions on the test set\n",
        "predictions = model.predict(X_test)"
      ],
      "metadata": {
        "id": "sPnnfISIRdnn"
      },
      "execution_count": null,
      "outputs": []
    },
    {
      "cell_type": "code",
      "source": [
        "\n",
        "# Evaluate the model\n",
        "accuracy = accuracy_score(y_test, predictions)\n",
        "conf_matrix = confusion_matrix(y_test, predictions)"
      ],
      "metadata": {
        "id": "LxKKL-DmRgt6"
      },
      "execution_count": null,
      "outputs": []
    },
    {
      "cell_type": "code",
      "source": [
        "# Print the accuracy score\n",
        "print(f\"Accuracy: {accuracy}\")\n",
        "\n",
        "# Print the confusion matrix\n",
        "print(\"Confusion Matrix:\")\n",
        "print(conf_matrix)\n",
        "\n",
        "from sklearn.metrics import precision_score, recall_score, f1_score\n",
        "\n",
        "# Calculate and print precision, recall, and F1-score\n",
        "precision = precision_score(y_test, predictions, average='weighted')\n",
        "recall = recall_score(y_test, predictions, average='weighted')\n",
        "f1 = f1_score(y_test, predictions, average='weighted')\n",
        "\n",
        "print(f\"Precision: {precision}\")\n",
        "print(f\"Recall: {recall}\")\n",
        "print(f\"F1-score: {f1}\")\n"
      ],
      "metadata": {
        "colab": {
          "base_uri": "https://localhost:8080/"
        },
        "id": "QaXKaavGKPy_",
        "outputId": "9f977349-9f11-49c9-faf2-696c438d0cde"
      },
      "execution_count": null,
      "outputs": [
        {
          "output_type": "stream",
          "name": "stdout",
          "text": [
            "Accuracy: 0.9990925589836661\n",
            "Confusion Matrix:\n",
            "[[315   1   0]\n",
            " [  0 316   0]\n",
            " [  0   0 470]]\n",
            "Precision: 0.9990954215736231\n",
            "Recall: 0.9990925589836661\n",
            "F1-score: 0.9990925567117862\n"
          ]
        }
      ]
    },
    {
      "cell_type": "code",
      "source": [
        "joblib.dump(model, 'buli_model.pkl')"
      ],
      "metadata": {
        "colab": {
          "base_uri": "https://localhost:8080/"
        },
        "id": "f-xxAa6PLNfC",
        "outputId": "16a80ce8-c57a-4b14-dbeb-b4a6c9e59be8"
      },
      "execution_count": null,
      "outputs": [
        {
          "output_type": "execute_result",
          "data": {
            "text/plain": [
              "['buli_model.pkl']"
            ]
          },
          "metadata": {},
          "execution_count": 34
        }
      ]
    },
    {
      "cell_type": "code",
      "source": [
        "# Load the trained model from the file\n",
        "loaded_model = joblib.load('buli_model.pkl')\n",
        "\n",
        "import pandas as pd\n",
        "\n",
        "# Define the features for each team (adjust values based on your data)\n",
        "home_team_features = {\n",
        "    'LOCATION_ID': [9],     # Numerical value representing the location ID\n",
        "    'MATCHDAY_NR': [1],    # Numerical value representing the matchday number\n",
        "    'HOME_TEAM_ID': [6],    # Numerical value representing the home team ID\n",
        "    'AWAY_TEAM_ID': [16],   # Numerical value representing the away team ID\n",
        "    'GOALS_HOME': [0],      # Number of goals scored by the home team\n",
        "    'GOALS_AWAY': [9]       # Number of goals scored by the away team\n",
        "}\n",
        "\n",
        "away_team_features = {\n",
        "    'LOCATION_ID': [9],     # Numerical value representing the location ID\n",
        "    'MATCHDAY_NR': [10],    # Numerical value representing the matchday number\n",
        "    'HOME_TEAM_ID': [16],   # Numerical value representing the home team ID (opposite of home team)\n",
        "    'AWAY_TEAM_ID': [6],    # Numerical value representing the away team ID (opposite of away team)\n",
        "    'GOALS_HOME': [0],      # Number of goals scored by the home team (opposite of home team)\n",
        "    'GOALS_AWAY': [0]       # Number of goals scored by the away team (opposite of away team)\n",
        "}\n",
        "\n",
        "# Make predictions for the home team\n",
        "home_team_predictions = loaded_model.predict_proba(pd.DataFrame(home_team_features))\n",
        "home_team_result = pd.DataFrame({\n",
        "    'Team': ['Leverkusen'],               # Name of the home team\n",
        "    'Win Probability': home_team_predictions[0][0],\n",
        "    'Draw Probability': home_team_predictions[0][1],\n",
        "    'Loss Probability': home_team_predictions[0][2]\n",
        "})\n",
        "\n",
        "\n",
        "result = loaded_model.predict(pd.DataFrame(home_team_features))\n",
        "resultAway = loaded_model.predict(pd.DataFrame(home_team_features))\n",
        "print(f\"home prediction ${result}\")\n",
        "\n",
        "# Make predictions for the away team\n",
        "away_team_predictions = loaded_model.predict_proba(pd.DataFrame(away_team_features))\n",
        "away_team_result = pd.DataFrame({\n",
        "    'Team': ['Stuttgart'],                # Name of the away team\n",
        "    'Win Probability': away_team_predictions[0][0],\n",
        "    'Draw Probability': away_team_predictions[0][1],\n",
        "    'Loss Probability': away_team_predictions[0][2]\n",
        "})\n",
        "\n",
        "# Concatenate the results for both teams\n",
        "results_df = pd.concat([home_team_result, away_team_result])\n",
        "\n",
        "# Print the results\n",
        "print(results_df)\n",
        "\n"
      ],
      "metadata": {
        "colab": {
          "base_uri": "https://localhost:8080/"
        },
        "id": "1LsjY-icLN_D",
        "outputId": "71dd94ee-754a-4ab9-fb65-c173807ee9cf"
      },
      "execution_count": null,
      "outputs": [
        {
          "output_type": "stream",
          "name": "stdout",
          "text": [
            "         Team  Win Probability  Draw Probability  Loss Probability\n",
            "0  Leverkusen             0.00              1.00              0.00\n",
            "0   Stuttgart             0.93              0.02              0.05\n"
          ]
        }
      ]
    },
    {
      "cell_type": "code",
      "source": [
        "import numpy as np\n",
        "\n",
        "# Define the range of goals for each team\n",
        "goals_range = np.arange(0, 11)  # Assuming the range of goals is from 0 to 10\n",
        "\n",
        "# Create a grid of all possible goal combinations\n",
        "home_goals, away_goals = np.meshgrid(goals_range, goals_range)\n",
        "\n",
        "# Flatten the grid to create all possible combinations\n",
        "home_goals_flat = home_goals.flatten()\n",
        "away_goals_flat = away_goals.flatten()\n",
        "\n",
        "# Predict win probabilities for all combinations\n",
        "win_probabilities = loaded_model.predict_proba(pd.DataFrame({\n",
        "    'LOCATION_ID': [9] * len(home_goals_flat),\n",
        "    'MATCHDAY_NR': [20] * len(home_goals_flat),\n",
        "    'HOME_TEAM_ID': [6] * len(home_goals_flat),\n",
        "    'AWAY_TEAM_ID': [16] * len(home_goals_flat),\n",
        "    'GOALS_HOME': home_goals_flat,\n",
        "    'GOALS_AWAY': away_goals_flat\n",
        "}))\n",
        "\n",
        "# Reshape the win probabilities back to the grid shape\n",
        "win_probabilities_home = win_probabilities[:, 0].reshape(home_goals.shape)\n",
        "win_probabilities_away = win_probabilities[:, 0].reshape(away_goals.shape)\n",
        "\n",
        "# Plot the win probability surfaces for both teams\n",
        "fig, axs = plt.subplots(1, 2, figsize=(15, 6), sharex=True, sharey=True)\n",
        "\n",
        "# Plot for the home team\n",
        "axs[0].contourf(home_goals, away_goals, win_probabilities_home, cmap='viridis')\n",
        "axs[0].set_title('Home Team (Leverkusen)')\n",
        "axs[0].set_xlabel('Goals Scored by Home Team')\n",
        "axs[0].set_ylabel('Goals Scored by Away Team')\n",
        "axs[0].grid(True)\n",
        "\n",
        "# Plot for the away team\n",
        "axs[1].contourf(home_goals, away_goals, win_probabilities_away, cmap='viridis')\n",
        "axs[1].set_title('Away Team (Stuttgart)')\n",
        "axs[1].set_xlabel('Goals Scored by Home Team')\n",
        "axs[1].set_ylabel('Goals Scored by Away Team')\n",
        "axs[1].grid(True)\n",
        "\n",
        "# Add colorbars\n",
        "cbar1 = fig.colorbar(axs[0].contourf(home_goals, away_goals, win_probabilities_home, cmap='viridis'), ax=axs[0])\n",
        "cbar2 = fig.colorbar(axs[1].contourf(home_goals, away_goals, win_probabilities_away, cmap='viridis'), ax=axs[1])\n",
        "\n",
        "# Set colorbar labels\n",
        "cbar1.set_label('Win Probability')\n",
        "cbar2.set_label('Win Probability')\n",
        "\n",
        "plt.show()\n"
      ],
      "metadata": {
        "colab": {
          "base_uri": "https://localhost:8080/",
          "height": 564
        },
        "id": "QHCDScNkWHYR",
        "outputId": "0f7423c8-ce8b-45f8-81c1-cbabd3cc05f0"
      },
      "execution_count": null,
      "outputs": [
        {
          "output_type": "display_data",
          "data": {
            "text/plain": [
              "<Figure size 1500x600 with 4 Axes>"
            ],
            "image/png": "[encoded data removed]"
          },
          "metadata": {}
        }
      ]
    },
    {
      "cell_type": "code",
      "source": [
        "import numpy as np\n",
        "\n",
        "# Define the range of goals for each team\n",
        "goals_range = np.arange(0, 11)  # Assuming the range of goals is from 0 to 10\n",
        "\n",
        "# Predict win probabilities for each goal separately\n",
        "win_probabilities_home = []\n",
        "win_probabilities_away = []\n",
        "\n",
        "for goal in goals_range:\n",
        "    # Predict win probabilities for the home team with a specific goal\n",
        "    game_features_home = pd.DataFrame({\n",
        "        'LOCATION_ID': [9],     # Numerical value representing the location ID\n",
        "        'MATCHDAY_NR': [20],    # Numerical value representing the matchday number\n",
        "        'HOME_TEAM_ID': [6],    # Numerical value representing the home team ID\n",
        "        'AWAY_TEAM_ID': [16],   # Numerical value representing the away team ID\n",
        "        'GOALS_HOME': [goal],   # Specific number of goals scored by the home team\n",
        "        'GOALS_AWAY': [0]       # Number of goals scored by the away team\n",
        "    })\n",
        "    win_prob_home = loaded_model.predict_proba(game_features_home)[:, 0]\n",
        "    win_probabilities_home.append(win_prob_home)\n",
        "\n",
        "    # Predict win probabilities for the away team with a specific goal\n",
        "    game_features_away = pd.DataFrame({\n",
        "        'LOCATION_ID': [9],     # Numerical value representing the location ID\n",
        "        'MATCHDAY_NR': [20],    # Numerical value representing the matchday number\n",
        "        'HOME_TEAM_ID': [6],   # Numerical value representing the home team ID (opposite of home team)\n",
        "        'AWAY_TEAM_ID': [16],    # Numerical value representing the away team ID (opposite of away team)\n",
        "        'GOALS_HOME': [0],      # Number of goals scored by the home team (opposite of home team)\n",
        "        'GOALS_AWAY': [goal]    # Specific number of goals scored by the away team\n",
        "    })\n",
        "    win_prob_away = loaded_model.predict_proba(game_features_away)[:, 0]\n",
        "    win_probabilities_away.append(win_prob_away)\n",
        "\n",
        "# Plot the win probability for each goal\n",
        "plt.figure(figsize=(10, 6))\n",
        "for goal, prob_home, prob_away in zip(goals_range, win_probabilities_home, win_probabilities_away):\n",
        "    plt.plot([goal], [prob_home], marker='o', color='blue')\n",
        "    plt.plot([goal], [prob_away], marker='o', color='green')\n",
        "\n",
        "# Set plot labels and title\n",
        "plt.xlabel('Number of Goals')\n",
        "plt.ylabel('Win Probability')\n",
        "plt.title('Win Probability vs. Number of Goals')\n",
        "plt.xticks(goals_range)\n",
        "plt.grid(True)\n",
        "\n",
        "# Add legend\n",
        "plt.legend(['Home Team (Leverkusen)', 'Away Team (Stuttgart)'])\n",
        "\n",
        "# Show plot\n",
        "plt.show()\n"
      ],
      "metadata": {
        "colab": {
          "base_uri": "https://localhost:8080/",
          "height": 564
        },
        "id": "Hv7tUH4YWelU",
        "outputId": "0836f375-bc8f-4b83-e097-6903fa7b7e8e"
      },
      "execution_count": null,
      "outputs": [
        {
          "output_type": "display_data",
          "data": {
            "text/plain": [
              "<Figure size 1000x600 with 1 Axes>"
            ],
            "image/png": "[encoded data removed]"
          },
          "metadata": {}
        }
      ]
    }
  ]
}